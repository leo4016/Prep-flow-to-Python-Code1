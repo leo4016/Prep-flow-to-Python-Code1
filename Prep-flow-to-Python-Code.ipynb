{
 "cells": [
  {
   "cell_type": "code",
   "execution_count": 226,
   "metadata": {},
   "outputs": [],
   "source": [
    "#完整程式碼\n",
    "\n",
    "#讀檔\n",
    "path1 = r\"C:\\Users\\leo\\Global_Orders_2011_Broken.xlsx\"\n",
    "path2 = r\"C:\\Users\\leo\\Global_Orders_2012_Broken.xlsx\"\n",
    "path3 = r\"C:\\Users\\leo\\Global_Orders_2013_Broken.xlsx\"\n",
    "\n",
    "df1 = pd.read_excel(path1, sheet_name=None)\n",
    "df2 = pd.read_excel(path2, sheet_name=None)\n",
    "df3 = pd.read_excel(path3, sheet_name=None)\n",
    "\n",
    "#將City,State切成2個column,並刪除原本City,State整個column\n",
    "df1.drop(df1.columns[23:71],axis=1,inplace=True)\n",
    "df1['City']=df1['City, State'].str.split(',',expand=True)[0]\n",
    "df1['State']=df1['City, State'].str.split(',',expand=True)[1]\n",
    "df1.drop(['City, State'],axis=1,inplace=True)\n",
    "\n",
    "#更改data value 1.Afric -> Africa 2. Caribean -> Caribbean\n",
    "#更改Sub_Category　to Sub-Category\n",
    "#更改00 -> 0\n",
    "#更改NA值　->　Missing Value\n",
    "\n",
    "df1['Region'].replace(['Afric'],['Africa'],inplace=True)\n",
    "df1['Region'].replace(['Caribean'],['Caribbean'],inplace=True)\n",
    "\n",
    "df2.rename(columns={'Sub_Category':'Sub-Category'})\n",
    "df2['Discount']\n",
    "df2.loc[df2['Discount'] == 'OO%'] = 0\n",
    "\n",
    "df3['Order ID'].fillna('Missing Value',inplace=True)\n",
    "\n",
    "#Union\n",
    "Adf = pd.concat([df1,df2,df3])\n",
    "\n",
    "#Save to excel file\n",
    "Adf.to_excel(r'C:\\Users\\leo\\Desktop\\TableauPrep_workshop_20180607\\excel_output.xls')\n"
   ]
  },
  {
   "cell_type": "code",
   "execution_count": null,
   "metadata": {
    "collapsed": true
   },
   "outputs": [],
   "source": []
  }
 ],
 "metadata": {
  "kernelspec": {
   "display_name": "Python 3",
   "language": "python",
   "name": "python3"
  },
  "language_info": {
   "codemirror_mode": {
    "name": "ipython",
    "version": 3
   },
   "file_extension": ".py",
   "mimetype": "text/x-python",
   "name": "python",
   "nbconvert_exporter": "python",
   "pygments_lexer": "ipython3",
   "version": "3.6.2"
  }
 },
 "nbformat": 4,
 "nbformat_minor": 2
}
